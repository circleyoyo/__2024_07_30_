{
 "cells": [
  {
   "cell_type": "code",
   "execution_count": 4,
   "metadata": {},
   "outputs": [
    {
     "name": "stdout",
     "output_type": "stream",
     "text": [
      "學生成績為丙\n"
     ]
    }
   ],
   "source": [
    "#90(含)分為優\n",
    "#80(含)~89分為甲\n",
    "#70(含)~79分為乙\n",
    "#60(含)~69分為丙\n",
    "#0(含)~59分為丁\n",
    "\n",
    "score = int(input(\"請輸入分數:\"))\n",
    "if score >= 90:\n",
    "    grade = '優'\n",
    "elif score >=80:\n",
    "    grade = '甲'\n",
    "elif score >= 70:\n",
    "    grade = '乙'\n",
    "elif score >= 60:\n",
    "    grade ='丙'\n",
    "else:\n",
    "    grade = '丁'\n",
    "\n",
    "print(f'學生成績為{grade}')"
   ]
  },
  {
   "cell_type": "code",
   "execution_count": 6,
   "metadata": {},
   "outputs": [
    {
     "name": "stdout",
     "output_type": "stream",
     "text": [
      "實付金額為64495\n"
     ]
    }
   ],
   "source": [
    "#請輸入購買金額\n",
    "#滿100000打8折\n",
    "#滿50000打85折\n",
    "#滿30000打9折\n",
    "#滿10000打95折\n",
    "\n",
    "import math\n",
    "amount = int(input('請輸入金額:'))\n",
    "if amount < 10000:\n",
    "    pay = amount\n",
    "elif amount < 30000:\n",
    "    pay = amount *0.95\n",
    "elif amount < 50000:\n",
    "    pay = amount * 0.9\n",
    "elif amount < 100000:\n",
    "    pay = amount * 0.85\n",
    "else:\n",
    "    amount >= 10000\n",
    "    pay = amount * 0.8\n",
    "\n",
    "print(f'實付金額為{math. ceil(pay)}')"
   ]
  },
  {
   "cell_type": "code",
   "execution_count": 8,
   "metadata": {},
   "outputs": [
    {
     "name": "stdout",
     "output_type": "stream",
     "text": [
      "可以考駕照\n"
     ]
    }
   ],
   "source": [
    "age = 23\n",
    "if not age > 18:\n",
    "    print('不可以考駕照')\n",
    "else:\n",
    "    print('可以考駕照')"
   ]
  }
 ],
 "metadata": {
  "kernelspec": {
   "display_name": "Python 3",
   "language": "python",
   "name": "python3"
  },
  "language_info": {
   "codemirror_mode": {
    "name": "ipython",
    "version": 3
   },
   "file_extension": ".py",
   "mimetype": "text/x-python",
   "name": "python",
   "nbconvert_exporter": "python",
   "pygments_lexer": "ipython3",
   "version": "3.11.9"
  }
 },
 "nbformat": 4,
 "nbformat_minor": 2
}
