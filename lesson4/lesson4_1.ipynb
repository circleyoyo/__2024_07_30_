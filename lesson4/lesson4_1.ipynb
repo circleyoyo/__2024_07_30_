{
 "cells": [
  {
   "cell_type": "code",
   "execution_count": 3,
   "metadata": {},
   "outputs": [
    {
     "name": "stdout",
     "output_type": "stream",
     "text": [
      "不可以考駕照\n"
     ]
    }
   ],
   "source": [
    "age = 15\n",
    "\n",
    "if age >= 18:\n",
    "    print(\"可以考駕照\")\n",
    "else:\n",
    "    print(\"不可以考駕照\")    "
   ]
  },
  {
   "cell_type": "code",
   "execution_count": 8,
   "metadata": {},
   "outputs": [
    {
     "name": "stdout",
     "output_type": "stream",
     "text": [
      "學生總分為:268\n"
     ]
    }
   ],
   "source": [
    "#輸入學生分數，最高300分\n",
    "#要不要加分(yes or no)\n",
    "#yes，總分加5%\n",
    "import math\n",
    "score = int(input(\"請輸入學生分數(最高300分)\"))\n",
    "add = input(\"學生是否符合加分條件？(yes,no)\")\n",
    "\n",
    "if add =='yes':\n",
    "    score *= 1.05\n",
    "    score = math.ceil(score)\n",
    "\n",
    "print(f'學生總分為:{score}')"
   ]
  },
  {
   "cell_type": "code",
   "execution_count": 9,
   "metadata": {},
   "outputs": [
    {
     "name": "stdout",
     "output_type": "stream",
     "text": [
      "學生總分為:300\n"
     ]
    }
   ],
   "source": [
    "#輸入學生分數，最高300分\n",
    "#要不要加分(yes or no)\n",
    "#yes，總分加5%\n",
    "import math\n",
    "score = int(input(\"請輸入學生分數(最高300分)\"))\n",
    "add = input(\"學生是否符合加分條件？(yes,no)\")\n",
    "\n",
    "if add =='yes':\n",
    "    score *= 1.05\n",
    "    score = math.ceil(score)\n",
    "    if score > 300:\n",
    "        score = 300\n",
    "\n",
    "print(f'學生總分為:{score}')"
   ]
  },
  {
   "cell_type": "code",
   "execution_count": null,
   "metadata": {},
   "outputs": [],
   "source": [
    "#輸入學生分數，最高300分\n",
    "#要不要加分(yes or no)\n",
    "#yes，總分加5%\n",
    "import math\n",
    "score = int(input(\"請輸入學生分數(最高300分)\"))\n",
    "add = input(\"學生是否符合加分條件？(yes,no)\")\n",
    "\n",
    "if add =='yes':\n",
    "    score *= 1.05\n",
    "    score = math.ceil(score)\n",
    "    if score > 300:\n",
    "        score = 300\n",
    "\n",
    "print(f'學生總分為:{score}')"
   ]
  }
 ],
 "metadata": {
  "kernelspec": {
   "display_name": "Python 3",
   "language": "python",
   "name": "python3"
  },
  "language_info": {
   "codemirror_mode": {
    "name": "ipython",
    "version": 3
   },
   "file_extension": ".py",
   "mimetype": "text/x-python",
   "name": "python",
   "nbconvert_exporter": "python",
   "pygments_lexer": "ipython3",
   "version": "3.11.9"
  }
 },
 "nbformat": 4,
 "nbformat_minor": 2
}
